{
 "cells": [
  {
   "cell_type": "markdown",
   "metadata": {},
   "source": [
    "# AcadGild_DataScience_Assignment_8"
   ]
  },
  {
   "cell_type": "markdown",
   "metadata": {},
   "source": [
    "Problem 1:  How-to-count-distance-to-the-previous-zero\n",
    "For each value, count the difference of the distance from the previous zero (or the start\n",
    "of the Series, whichever is closer) and if there are no previous zeros,print the position\n",
    "\n",
    "Consider a DataFrame df where there is an integer column {'X':[7, 2, 0, 3, 4, 2, 5, 0, 3, 4]}\n",
    "\n",
    "The values should therefore be [1, 2, 0, 1, 2, 3, 4, 0, 1, 2]. Make this a new column 'Y'.    "
   ]
  },
  {
   "cell_type": "code",
   "execution_count": 4,
   "metadata": {},
   "outputs": [
    {
     "name": "stdout",
     "output_type": "stream",
     "text": [
      "Output \n",
      "\n",
      "DataFrame Input column values are \n",
      " [7, 2, 0, 3, 4, 2, 5, 0, 3, 4] \n",
      "\n",
      "The Counter position for availabvle zero in dataframe column is \n",
      " [1, 2, 0, 1, 2, 3, 4, 0, 1, 2] \n",
      "\n",
      "Output DataFrame \n",
      "\n"
     ]
    },
    {
     "data": {
      "text/html": [
       "<div>\n",
       "<style scoped>\n",
       "    .dataframe tbody tr th:only-of-type {\n",
       "        vertical-align: middle;\n",
       "    }\n",
       "\n",
       "    .dataframe tbody tr th {\n",
       "        vertical-align: top;\n",
       "    }\n",
       "\n",
       "    .dataframe thead th {\n",
       "        text-align: right;\n",
       "    }\n",
       "</style>\n",
       "<table border=\"1\" class=\"dataframe\">\n",
       "  <thead>\n",
       "    <tr style=\"text-align: right;\">\n",
       "      <th></th>\n",
       "      <th>X</th>\n",
       "      <th>Y</th>\n",
       "    </tr>\n",
       "  </thead>\n",
       "  <tbody>\n",
       "    <tr>\n",
       "      <th>0</th>\n",
       "      <td>7</td>\n",
       "      <td>1</td>\n",
       "    </tr>\n",
       "    <tr>\n",
       "      <th>1</th>\n",
       "      <td>2</td>\n",
       "      <td>2</td>\n",
       "    </tr>\n",
       "    <tr>\n",
       "      <th>2</th>\n",
       "      <td>0</td>\n",
       "      <td>0</td>\n",
       "    </tr>\n",
       "    <tr>\n",
       "      <th>3</th>\n",
       "      <td>3</td>\n",
       "      <td>1</td>\n",
       "    </tr>\n",
       "    <tr>\n",
       "      <th>4</th>\n",
       "      <td>4</td>\n",
       "      <td>2</td>\n",
       "    </tr>\n",
       "    <tr>\n",
       "      <th>5</th>\n",
       "      <td>2</td>\n",
       "      <td>3</td>\n",
       "    </tr>\n",
       "    <tr>\n",
       "      <th>6</th>\n",
       "      <td>5</td>\n",
       "      <td>4</td>\n",
       "    </tr>\n",
       "    <tr>\n",
       "      <th>7</th>\n",
       "      <td>0</td>\n",
       "      <td>0</td>\n",
       "    </tr>\n",
       "    <tr>\n",
       "      <th>8</th>\n",
       "      <td>3</td>\n",
       "      <td>1</td>\n",
       "    </tr>\n",
       "    <tr>\n",
       "      <th>9</th>\n",
       "      <td>4</td>\n",
       "      <td>2</td>\n",
       "    </tr>\n",
       "  </tbody>\n",
       "</table>\n",
       "</div>"
      ],
      "text/plain": [
       "   X  Y\n",
       "0  7  1\n",
       "1  2  2\n",
       "2  0  0\n",
       "3  3  1\n",
       "4  4  2\n",
       "5  2  3\n",
       "6  5  4\n",
       "7  0  0\n",
       "8  3  1\n",
       "9  4  2"
      ]
     },
     "execution_count": 4,
     "metadata": {},
     "output_type": "execute_result"
    }
   ],
   "source": [
    "#Solution:\n",
    "\n",
    "# Import pandas module\n",
    "import pandas as pd\n",
    "#Create data frame\n",
    "df = pd.DataFrame({'X': [7, 2, 0, 3, 4, 2, 5, 0, 3, 4]})\n",
    "#Convert DataFrame 'df' into series object\n",
    "df_series=df['X']\n",
    "#Get counter value for available 0 in dataframe \n",
    "x=[(df_series.tolist()[i::-1]+[0]).index(0) for i in range(len(df_series.tolist()))]\n",
    "#Assign value into Data Frame with 'Y' column\n",
    "df['Y']=x\n",
    "\n",
    "\n",
    "#Output\n",
    "print(\"Output \\n\")\n",
    "print(\"DataFrame Input column values are \\n\",df['X'].tolist(),\"\\n\")\n",
    "print(\"The Counter position for availabvle zero in dataframe column is \\n\",x,\"\\n\")\n",
    "print(\"Output DataFrame \\n\")\n",
    "df"
   ]
  },
  {
   "cell_type": "markdown",
   "metadata": {},
   "source": [
    "-------------------------------------------------------------------------------------------------------------------"
   ]
  },
  {
   "cell_type": "markdown",
   "metadata": {},
   "source": [
    "Problem 2: Create a DatetimeIndex that contains each business day of 2015 and use it to index a\n",
    "Series of random numbers."
   ]
  },
  {
   "cell_type": "code",
   "execution_count": 19,
   "metadata": {},
   "outputs": [
    {
     "name": "stdout",
     "output_type": "stream",
     "text": [
      "Output \n",
      "\n",
      "Few Observation of Series object are \n",
      " 2015-01-01    0.158125\n",
      "2015-01-02    0.576038\n",
      "2015-01-05    0.042221\n",
      "2015-01-06    0.330418\n",
      "2015-01-07    0.618865\n",
      "Freq: B, dtype: float64 \n",
      "\n",
      "Index of Series object are \n",
      " DatetimeIndex(['2015-01-01', '2015-01-02', '2015-01-05', '2015-01-06',\n",
      "               '2015-01-07', '2015-01-08', '2015-01-09', '2015-01-12',\n",
      "               '2015-01-13', '2015-01-14',\n",
      "               ...\n",
      "               '2015-12-18', '2015-12-21', '2015-12-22', '2015-12-23',\n",
      "               '2015-12-24', '2015-12-25', '2015-12-28', '2015-12-29',\n",
      "               '2015-12-30', '2015-12-31'],\n",
      "              dtype='datetime64[ns]', length=261, freq='B')\n"
     ]
    }
   ],
   "source": [
    "#Solution\n",
    "\n",
    "# import pandas and numpy module\n",
    "\n",
    "import pandas as pd\n",
    "import numpy as np\n",
    "\n",
    "# Cretae Date data for business days of year 2015\n",
    "datedata= pd.date_range(start='2015-01-01',end='2015-12-31',freq='B')\n",
    "#create random number based upon date data\n",
    "randomNum=np.random.rand(len(datedata))\n",
    "#create Series object form pandas\n",
    "s= pd.Series(randomNum,index=datedata)\n",
    "print(\"Output \\n\")\n",
    "print(\"Few Observation of Series object are \\n\",s.head(),\"\\n\")\n",
    "print(\"Index of Series object are \\n\",s.index)"
   ]
  },
  {
   "cell_type": "markdown",
   "metadata": {},
   "source": [
    "-------------------------------------------------------------------------------------"
   ]
  },
  {
   "cell_type": "markdown",
   "metadata": {},
   "source": [
    "Problem 3: Find the sum of the values in s for every Wednesday"
   ]
  },
  {
   "cell_type": "code",
   "execution_count": 36,
   "metadata": {},
   "outputs": [
    {
     "name": "stdout",
     "output_type": "stream",
     "text": [
      "Output\n",
      "Sum of values for Wedensday in s:\n"
     ]
    },
    {
     "data": {
      "text/plain": [
       "26.641867929263203"
      ]
     },
     "execution_count": 36,
     "metadata": {},
     "output_type": "execute_result"
    }
   ],
   "source": [
    "#Solution\n",
    "#Get week day information , use head() for fewer information\n",
    "s[datedata.weekday_name=='Wednesday'].head()\n",
    "print(\"Output\")\n",
    "print(\"Sum of values for Wedensday in s:\")\n",
    "s[datedata.weekday_name=='Wednesday'].sum()"
   ]
  },
  {
   "cell_type": "markdown",
   "metadata": {},
   "source": [
    "-------------------------------------------------------------------------------------------------"
   ]
  },
  {
   "cell_type": "markdown",
   "metadata": {},
   "source": [
    "Problem 4 : Average For each calendar month"
   ]
  },
  {
   "cell_type": "code",
   "execution_count": 35,
   "metadata": {},
   "outputs": [
    {
     "data": {
      "text/plain": [
       "2015-01-31    0.416508\n",
       "2015-02-28    0.435290\n",
       "2015-03-31    0.640347\n",
       "2015-04-30    0.304167\n",
       "2015-05-31    0.566249\n",
       "2015-06-30    0.498720\n",
       "2015-07-31    0.545882\n",
       "2015-08-31    0.523052\n",
       "2015-09-30    0.578406\n",
       "2015-10-31    0.452317\n",
       "2015-11-30    0.515600\n",
       "2015-12-31    0.499271\n",
       "Freq: M, dtype: float64"
      ]
     },
     "execution_count": 35,
     "metadata": {},
     "output_type": "execute_result"
    }
   ],
   "source": [
    "#Solution\n",
    "# avearge for each month , convention of resample method taken as \"end\"\n",
    "s.resample('M',convention='end').mean()"
   ]
  },
  {
   "cell_type": "markdown",
   "metadata": {},
   "source": [
    "------------------------------------------------------------------------------------------------------"
   ]
  },
  {
   "cell_type": "markdown",
   "metadata": {},
   "source": [
    "Problem 5: For each group of four consecutive calendar months in s, find the date on which the highest value occurred."
   ]
  },
  {
   "cell_type": "code",
   "execution_count": 44,
   "metadata": {},
   "outputs": [
    {
     "name": "stdout",
     "output_type": "stream",
     "text": [
      "Output\n",
      "Duration of consecutive 4 months  , till that highest value recorded \n",
      "\n",
      "2015-01-31   2015-01-13\n",
      "2015-05-31   2015-04-22\n",
      "2015-09-30   2015-06-10\n",
      "2016-01-31   2015-10-08\n",
      "dtype: datetime64[ns] \n",
      "\n",
      "Maximum value for the recorde date \n",
      "\n",
      "2015-01-13    0.970890\n",
      "2015-04-22    0.996574\n",
      "2015-06-10    0.959148\n",
      "2015-10-08    0.984176\n",
      "dtype: float64\n"
     ]
    }
   ],
   "source": [
    "#Solution\n",
    "\n",
    "#duration of consecutive 4 months are , till that highest value recorded \n",
    "print(\"Output\")\n",
    "print(\"Duration of consecutive 4 months  , till that highest value recorded \\n\")\n",
    "print(s.groupby(pd.Grouper(freq='4M')).idxmax(),\"\\n\")\n",
    "print(\"Maximum value for the recorde date \\n\")\n",
    "print(s[s.groupby(pd.Grouper(freq='4M')).idxmax()])"
   ]
  }
 ],
 "metadata": {
  "kernelspec": {
   "display_name": "Python 3",
   "language": "python",
   "name": "python3"
  },
  "language_info": {
   "codemirror_mode": {
    "name": "ipython",
    "version": 3
   },
   "file_extension": ".py",
   "mimetype": "text/x-python",
   "name": "python",
   "nbconvert_exporter": "python",
   "pygments_lexer": "ipython3",
   "version": "3.6.5"
  }
 },
 "nbformat": 4,
 "nbformat_minor": 2
}
